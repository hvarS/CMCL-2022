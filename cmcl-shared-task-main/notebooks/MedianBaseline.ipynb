{
 "cells": [
  {
   "cell_type": "markdown",
   "metadata": {},
   "source": [
    "# Median Baseline"
   ]
  },
  {
   "cell_type": "code",
   "execution_count": 2,
   "metadata": {},
   "outputs": [],
   "source": [
    "import sys\n",
    "sys.path.append('../')\n",
    "\n",
    "import numpy as np\n",
    "import pandas as pd\n",
    "import matplotlib.pyplot as plt\n",
    "import seaborn as sns\n",
    "import tqdm\n",
    "import torch\n",
    "from collections import defaultdict, Counter\n",
    "import random\n",
    "import math\n",
    "import pickle\n",
    "import string\n",
    "\n",
    "import wordfreq\n",
    "from sklearn.linear_model import LinearRegression\n",
    "from sklearn.svm import SVR\n",
    "\n",
    "import src.eval_metric\n",
    "\n",
    "%matplotlib inline\n",
    "%load_ext autoreload\n",
    "%autoreload 2\n",
    "pd.options.display.max_columns = 100\n",
    "pd.options.display.max_rows = 100"
   ]
  },
  {
   "cell_type": "code",
   "execution_count": 4,
   "metadata": {},
   "outputs": [],
   "source": [
    "train_df = pd.read_csv(\"../../data/training_data/train.csv\")\n",
    "valid_df = pd.read_csv(\"../../data/training_data/dev.csv\")"
   ]
  },
  {
   "cell_type": "code",
   "execution_count": 6,
   "metadata": {},
   "outputs": [],
   "source": [
    "output_var_names = ['FFDAvg', 'FFDStd', 'TRTAvg', 'TRTStd']\n",
    "predict_df = valid_df.copy()\n",
    "for feat_name in output_var_names:\n",
    "  predict_df[feat_name] = train_df[feat_name].median()"
   ]
  },
  {
   "cell_type": "code",
   "execution_count": 8,
   "metadata": {},
   "outputs": [
    {
     "name": "stdout",
     "output_type": "stream",
     "text": [
      "MAE for FFDAvg: 5.931158700600516\n",
      "MAE for FFDStd: 2.5783665272617666\n",
      "MAE for TRTAvg: 8.999091204200285\n",
      "MAE for TRTStd: 5.88665248133298\n",
      "Overall MAE: 5.848817228348887\n"
     ]
    },
    {
     "data": {
      "text/plain": [
       "5.848817228348887"
      ]
     },
     "execution_count": 8,
     "metadata": {},
     "output_type": "execute_result"
    }
   ],
   "source": [
    "src.eval_metric.evaluate(predict_df, valid_df)"
   ]
  },
  {
   "cell_type": "markdown",
   "metadata": {},
   "source": [
    "## Simple Feature-based Regression"
   ]
  },
  {
   "cell_type": "code",
   "execution_count": 9,
   "metadata": {},
   "outputs": [],
   "source": [
    "input_var_names = ['length', 'logfreq', 'has_upper', 'has_punct']\n",
    "def get_features(token):\n",
    "  token = token.replace('<EOS>', '')\n",
    "  return pd.Series({\n",
    "    'length': len(token),\n",
    "    'logfreq': wordfreq.zipf_frequency(token, 'en'),\n",
    "    'has_upper': 0 if token.lower() == token else 1,\n",
    "    'has_punct': 1 if any(j in string.punctuation for j in token) else 0,\n",
    "  })\n",
    "\n",
    "def clip_to_100(val):\n",
    "  if val < 0:\n",
    "    return 0\n",
    "  if val > 100:\n",
    "    return 100\n",
    "  return val"
   ]
  },
  {
   "cell_type": "code",
   "execution_count": 10,
   "metadata": {},
   "outputs": [],
   "source": [
    "train_df[input_var_names] = train_df.word.apply(get_features)"
   ]
  },
  {
   "cell_type": "code",
   "execution_count": 11,
   "metadata": {},
   "outputs": [],
   "source": [
    "valid_df[input_var_names] = valid_df.word.apply(get_features)"
   ]
  },
  {
   "cell_type": "code",
   "execution_count": 12,
   "metadata": {},
   "outputs": [],
   "source": [
    "predict_df = valid_df.copy()\n",
    "for feat_name in output_var_names:\n",
    "  #model = LinearRegression()\n",
    "  model = SVR()\n",
    "  \n",
    "  model.fit(train_df[input_var_names], train_df[feat_name])\n",
    "  predict_df[feat_name] = model.predict(predict_df[input_var_names])\n",
    "  predict_df[feat_name] = predict_df[feat_name].apply(clip_to_100)"
   ]
  },
  {
   "cell_type": "code",
   "execution_count": 13,
   "metadata": {},
   "outputs": [
    {
     "name": "stdout",
     "output_type": "stream",
     "text": [
      "MAE for FFDAvg: 4.625332291544271\n",
      "MAE for FFDStd: 2.304362286876658\n",
      "MAE for TRTAvg: 7.38086334355873\n",
      "MAE for TRTStd: 5.2781108246960144\n",
      "Overall MAE: 4.897167186668918\n"
     ]
    },
    {
     "data": {
      "text/plain": [
       "4.897167186668918"
      ]
     },
     "execution_count": 13,
     "metadata": {},
     "output_type": "execute_result"
    }
   ],
   "source": [
    "src.eval_metric.evaluate(predict_df, valid_df)"
   ]
  },
  {
   "cell_type": "code",
   "execution_count": null,
   "metadata": {},
   "outputs": [],
   "source": []
  }
 ],
 "metadata": {
  "kernelspec": {
   "display_name": "Python 3",
   "language": "python",
   "name": "python3"
  },
  "language_info": {
   "codemirror_mode": {
    "name": "ipython",
    "version": 3
   },
   "file_extension": ".py",
   "mimetype": "text/x-python",
   "name": "python",
   "nbconvert_exporter": "python",
   "pygments_lexer": "ipython3",
   "version": "3.8.8"
  }
 },
 "nbformat": 4,
 "nbformat_minor": 4
}
