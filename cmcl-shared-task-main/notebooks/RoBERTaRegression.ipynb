{
 "cells": [
  {
   "cell_type": "markdown",
   "metadata": {},
   "source": [
    "# RoBERTa Regression"
   ]
  },
  {
   "cell_type": "code",
   "execution_count": 1,
   "metadata": {},
   "outputs": [],
   "source": [
    "import sys\n",
    "sys.path.append('../')\n",
    "\n",
    "import numpy as np\n",
    "import pandas as pd\n",
    "import matplotlib.pyplot as plt\n",
    "import seaborn as sns\n",
    "import tqdm\n",
    "import torch\n",
    "from collections import defaultdict, Counter\n",
    "import random\n",
    "import math\n",
    "import pickle\n",
    "\n",
    "import src.eval_metric\n",
    "import src.model\n",
    "import src.dataloader\n",
    "\n",
    "%matplotlib inline\n",
    "%load_ext autoreload\n",
    "%autoreload 2\n",
    "pd.options.display.max_columns = 100\n",
    "pd.options.display.max_rows = 100"
   ]
  },
  {
   "cell_type": "code",
   "execution_count": 2,
   "metadata": {},
   "outputs": [],
   "source": [
    "train_df = pd.read_csv(\"../../data/training_data/train.csv\")\n",
    "valid_df = pd.read_csv(\"../../data/training_data/dev.csv\")\n",
    "test_df = pd.read_csv(\"../../data/test_data/test_task1.csv\")"
   ]
  },
  {
   "cell_type": "markdown",
   "metadata": {},
   "source": [
    "## Fine-tune model"
   ]
  },
  {
   "cell_type": "code",
   "execution_count": 3,
   "metadata": {},
   "outputs": [
    {
     "name": "stdout",
     "output_type": "stream",
     "text": [
      "['ZuCo1' 'ZuCo2' 'Provo' 'BSC' 'RSC' 'PAHEC' 'PoTeC' 'GECO-NL']\n"
     ]
    }
   ],
   "source": [
    "text_names = valid_df['text_name'].unique()\n",
    "print(valid_df['text_name'].unique())"
   ]
  },
  {
   "cell_type": "code",
   "execution_count": 13,
   "metadata": {},
   "outputs": [
    {
     "name": "stdout",
     "output_type": "stream",
     "text": [
      "/speech/sreyan/Harsh/CMCL-2022/cmcl-shared-task-main/notebooks/../../data/task1_predictions/\n",
      "True\n"
     ]
    }
   ],
   "source": [
    "import os\n",
    "PRED_DIR = '../../data/task1_predictions/'"
   ]
  },
  {
   "cell_type": "code",
   "execution_count": 15,
   "metadata": {},
   "outputs": [
    {
     "name": "stdout",
     "output_type": "stream",
     "text": [
      "ZuCo1\n"
     ]
    },
    {
     "name": "stderr",
     "output_type": "stream",
     "text": [
      "Some weights of the model checkpoint at xlm-roberta-base were not used when initializing XLMRobertaModel: ['lm_head.layer_norm.bias', 'lm_head.dense.bias', 'lm_head.bias', 'lm_head.dense.weight', 'lm_head.layer_norm.weight', 'lm_head.decoder.weight']\n",
      "- This IS expected if you are initializing XLMRobertaModel from the checkpoint of a model trained on another task or with another architecture (e.g. initializing a BertForSequenceClassification model from a BertForPreTraining model).\n",
      "- This IS NOT expected if you are initializing XLMRobertaModel from the checkpoint of a model that you expect to be exactly identical (initializing a BertForSequenceClassification model from a BertForSequenceClassification model).\n"
     ]
    },
    {
     "name": "stdout",
     "output_type": "stream",
     "text": [
      "dataloader_train/val 72 101 19\n",
      "Epoch: 1\n",
      "MAE for FFDAvg: 0.9347465568043477\n",
      "MAE for FFDStd: 0.9820844765506236\n",
      "MAE for TRTAvg: 6.017648745971803\n",
      "MAE for TRTStd: 4.401100548165389\n",
      "Overall MAE: 3.083895081873041\n",
      "dataloader_train/val 72 101 19\n",
      "Epoch: 2\n",
      "MAE for FFDAvg: 0.9364788519357641\n",
      "MAE for FFDStd: 0.9845694705713793\n",
      "MAE for TRTAvg: 4.4757791146261585\n",
      "MAE for TRTStd: 4.22527360988533\n",
      "Overall MAE: 2.655525261754658\n",
      "dataloader_train/val 72 101 19\n",
      "Epoch: 3\n",
      "MAE for FFDAvg: 0.934490477010941\n",
      "MAE for FFDStd: 0.9823708368773661\n",
      "MAE for TRTAvg: 4.248187429740244\n",
      "MAE for TRTStd: 4.136532639896088\n",
      "Overall MAE: 2.5753953458811596\n",
      "dataloader_train/val 72 101 19\n",
      "Epoch: 4\n",
      "MAE for FFDAvg: 0.9320204789241023\n",
      "MAE for FFDStd: 0.9833853693417626\n",
      "MAE for TRTAvg: 4.177142776803223\n",
      "MAE for TRTStd: 4.115686259735706\n",
      "Overall MAE: 2.552058721201199\n",
      "dataloader_train/val 72 101 19\n",
      "Epoch: 5\n",
      "MAE for FFDAvg: 0.9424592948519689\n",
      "MAE for FFDStd: 0.979137207342049\n",
      "MAE for TRTAvg: 4.162879436940863\n",
      "MAE for TRTStd: 4.107363819171253\n",
      "Overall MAE: 2.5479599395765336\n",
      "dataloader_train/val 72 101 19\n",
      "Epoch: 6\n",
      "MAE for FFDAvg: 0.9302252774275385\n",
      "MAE for FFDStd: 0.9826095276407235\n",
      "MAE for TRTAvg: 4.148392124800901\n",
      "MAE for TRTStd: 4.090792652165987\n",
      "Overall MAE: 2.5380048955087875\n",
      "dataloader_train/val 72 101 19\n",
      "Epoch: 7\n",
      "MAE for FFDAvg: 0.9295757879928601\n",
      "MAE for FFDStd: 0.97795332985272\n",
      "MAE for TRTAvg: 4.133802404079097\n",
      "MAE for TRTStd: 4.1008722112783405\n",
      "Overall MAE: 2.5355509333007547\n",
      "dataloader_train/val 72 101 19\n",
      "Epoch: 8\n",
      "MAE for FFDAvg: 0.9297615503454355\n",
      "MAE for FFDStd: 1.0014699875490167\n",
      "MAE for TRTAvg: 4.161772008233732\n",
      "MAE for TRTStd: 4.112043466697186\n",
      "Overall MAE: 2.5512617532063424\n",
      "dataloader_train/val 72 101 19\n",
      "Epoch: 9\n",
      "MAE for FFDAvg: 0.941995270891301\n",
      "MAE for FFDStd: 0.9898543003269538\n",
      "MAE for TRTAvg: 4.158002954354597\n",
      "MAE for TRTStd: 4.116978705855087\n",
      "Overall MAE: 2.5517078078569844\n",
      "dataloader_train/val 72 101 19\n",
      "Epoch: 10\n",
      "MAE for FFDAvg: 0.9461700754071857\n",
      "MAE for FFDStd: 0.976260790366254\n",
      "MAE for TRTAvg: 4.134852293845148\n",
      "MAE for TRTStd: 4.098073864914793\n",
      "Overall MAE: 2.538839256133345\n",
      "dataloader_train/val 72 101 19\n",
      "Epoch: 11\n",
      "MAE for FFDAvg: 0.9313822708686257\n",
      "MAE for FFDStd: 0.9733902332022106\n",
      "MAE for TRTAvg: 4.154789569630965\n",
      "MAE for TRTStd: 4.0952516997041535\n",
      "Overall MAE: 2.538703443351489\n",
      "dataloader_train/val 72 101 19\n",
      "Epoch: 12\n",
      "MAE for FFDAvg: 0.9267155305068892\n",
      "MAE for FFDStd: 0.9816890383310414\n",
      "MAE for TRTAvg: 4.134544466946463\n",
      "MAE for TRTStd: 4.088383480272522\n",
      "Overall MAE: 2.5328331290142287\n",
      "dataloader_train/val 72 101 19\n",
      "Epoch: 13\n",
      "MAE for FFDAvg: 0.945850652627224\n",
      "MAE for FFDStd: 1.0456294387660772\n",
      "MAE for TRTAvg: 4.288511495687795\n",
      "MAE for TRTStd: 4.158564943805562\n",
      "Overall MAE: 2.6096391327216644\n",
      "dataloader_train/val 72 101 19\n",
      "Epoch: 14\n",
      "MAE for FFDAvg: 0.9434240619417575\n",
      "MAE for FFDStd: 0.9816997194196521\n",
      "MAE for TRTAvg: 4.123432766289495\n",
      "MAE for TRTStd: 4.098770788124625\n",
      "Overall MAE: 2.5368318339438822\n",
      "dataloader_train/val 72 101 19\n",
      "Epoch: 15\n",
      "MAE for FFDAvg: 0.9447394120583835\n",
      "MAE for FFDStd: 0.9941038903726257\n",
      "MAE for TRTAvg: 4.126219876105385\n",
      "MAE for TRTStd: 4.118189284451505\n",
      "Overall MAE: 2.545813115746975\n",
      "dataloader_train/val 72 101 19\n",
      "Epoch: 16\n",
      "MAE for FFDAvg: 0.9354529452731445\n",
      "MAE for FFDStd: 0.9845374218920437\n",
      "MAE for TRTAvg: 4.182312958802389\n",
      "MAE for TRTStd: 4.116496679406561\n",
      "Overall MAE: 2.5547000013435346\n",
      "dataloader_train/val 72 101 19\n",
      "Epoch: 17\n",
      "MAE for FFDAvg: 0.9750396520347323\n",
      "MAE for FFDStd: 1.0002689203213262\n",
      "MAE for TRTAvg: 4.315591178126146\n",
      "MAE for TRTStd: 4.215218240570639\n",
      "Overall MAE: 2.6265294977632108\n",
      "dataloader_train/val 72 101 19\n",
      "Epoch: 18\n",
      "MAE for FFDAvg: 0.9834344058926727\n",
      "MAE for FFDStd: 0.9926880904576728\n",
      "MAE for TRTAvg: 4.2469254616062955\n",
      "MAE for TRTStd: 4.174878432426676\n",
      "Overall MAE: 2.5994815975958296\n",
      "dataloader_train/val 72 101 19\n",
      "Epoch: 19\n",
      "MAE for FFDAvg: 1.0134542879577515\n",
      "MAE for FFDStd: 1.010638948001122\n",
      "MAE for TRTAvg: 4.373396377999312\n",
      "MAE for TRTStd: 4.220917281898721\n",
      "Overall MAE: 2.654601723964227\n",
      "dataloader_train/val 72 101 19\n",
      "Epoch: 20\n",
      "MAE for FFDAvg: 1.0441771741565362\n",
      "MAE for FFDStd: 1.0201054814811377\n",
      "MAE for TRTAvg: 4.602818302692425\n",
      "MAE for TRTStd: 4.4091123838050175\n",
      "Overall MAE: 2.769053335533779\n"
     ]
    },
    {
     "ename": "ValueError",
     "evalue": "need at least one array to concatenate",
     "output_type": "error",
     "traceback": [
      "\u001b[0;31m---------------------------------------------------------------------------\u001b[0m",
      "\u001b[0;31mValueError\u001b[0m                                Traceback (most recent call last)",
      "Input \u001b[0;32mIn [15]\u001b[0m, in \u001b[0;36m<module>\u001b[0;34m\u001b[0m\n\u001b[1;32m      4\u001b[0m model_trainer\u001b[38;5;241m.\u001b[39mtrain(train_df, valid_df, num_epochs\u001b[38;5;241m=\u001b[39m\u001b[38;5;241m20\u001b[39m)\n\u001b[1;32m      5\u001b[0m test_df \u001b[38;5;241m=\u001b[39m test_df[test_df\u001b[38;5;241m.\u001b[39mtext_name \u001b[38;5;241m==\u001b[39m text_name]\n\u001b[0;32m----> 6\u001b[0m predict_df \u001b[38;5;241m=\u001b[39m \u001b[43mmodel_trainer\u001b[49m\u001b[38;5;241;43m.\u001b[39;49m\u001b[43mtest\u001b[49m\u001b[43m(\u001b[49m\u001b[43mtest_df\u001b[49m\u001b[43m)\u001b[49m\n\u001b[1;32m      7\u001b[0m predict_df\u001b[38;5;241m.\u001b[39mto_csv(PRED_DIR\u001b[38;5;241m+\u001b[39mtext_name\u001b[38;5;241m+\u001b[39m\u001b[38;5;124m\"\u001b[39m\u001b[38;5;124m_predictions.csv\u001b[39m\u001b[38;5;124m\"\u001b[39m, index\u001b[38;5;241m=\u001b[39m\u001b[38;5;28;01mFalse\u001b[39;00m)\n",
      "File \u001b[0;32m~/Harsh/CMCL-2022/cmcl-shared-task-main/src/model.py:136\u001b[0m, in \u001b[0;36mModelTrainer.test\u001b[0;34m(self, test_df)\u001b[0m\n\u001b[1;32m    134\u001b[0m         token_prediction[token_prediction \u001b[38;5;241m<\u001b[39m \u001b[38;5;241m0\u001b[39m] \u001b[38;5;241m=\u001b[39m \u001b[38;5;241m0\u001b[39m\n\u001b[1;32m    135\u001b[0m         predictions\u001b[38;5;241m.\u001b[39mappend(token_prediction)\n\u001b[0;32m--> 136\u001b[0m predict_df[[\u001b[38;5;124m'\u001b[39m\u001b[38;5;124mFFDAvg\u001b[39m\u001b[38;5;124m'\u001b[39m, \u001b[38;5;124m'\u001b[39m\u001b[38;5;124mFFDStd\u001b[39m\u001b[38;5;124m'\u001b[39m, \u001b[38;5;124m'\u001b[39m\u001b[38;5;124mTRTAvg\u001b[39m\u001b[38;5;124m'\u001b[39m, \u001b[38;5;124m'\u001b[39m\u001b[38;5;124mTRTStd\u001b[39m\u001b[38;5;124m'\u001b[39m]] \u001b[38;5;241m=\u001b[39m \u001b[43mnp\u001b[49m\u001b[38;5;241;43m.\u001b[39;49m\u001b[43mvstack\u001b[49m\u001b[43m(\u001b[49m\u001b[43mpredictions\u001b[49m\u001b[43m)\u001b[49m\n\u001b[1;32m    138\u001b[0m \u001b[38;5;28;01mtry\u001b[39;00m:\n\u001b[1;32m    139\u001b[0m   predict_df[[\u001b[38;5;124m'\u001b[39m\u001b[38;5;124mFFDAvg\u001b[39m\u001b[38;5;124m'\u001b[39m, \u001b[38;5;124m'\u001b[39m\u001b[38;5;124mFFDStd\u001b[39m\u001b[38;5;124m'\u001b[39m, \u001b[38;5;124m'\u001b[39m\u001b[38;5;124mTRTAvg\u001b[39m\u001b[38;5;124m'\u001b[39m, \u001b[38;5;124m'\u001b[39m\u001b[38;5;124mTRTStd\u001b[39m\u001b[38;5;124m'\u001b[39m]] \u001b[38;5;241m=\u001b[39m np\u001b[38;5;241m.\u001b[39mvstack(predictions)\n",
      "File \u001b[0;32m<__array_function__ internals>:180\u001b[0m, in \u001b[0;36mvstack\u001b[0;34m(*args, **kwargs)\u001b[0m\n",
      "File \u001b[0;32m~/Harsh/multimodal/lib/python3.8/site-packages/numpy/core/shape_base.py:282\u001b[0m, in \u001b[0;36mvstack\u001b[0;34m(tup)\u001b[0m\n\u001b[1;32m    280\u001b[0m \u001b[38;5;28;01mif\u001b[39;00m \u001b[38;5;129;01mnot\u001b[39;00m \u001b[38;5;28misinstance\u001b[39m(arrs, \u001b[38;5;28mlist\u001b[39m):\n\u001b[1;32m    281\u001b[0m     arrs \u001b[38;5;241m=\u001b[39m [arrs]\n\u001b[0;32m--> 282\u001b[0m \u001b[38;5;28;01mreturn\u001b[39;00m \u001b[43m_nx\u001b[49m\u001b[38;5;241;43m.\u001b[39;49m\u001b[43mconcatenate\u001b[49m\u001b[43m(\u001b[49m\u001b[43marrs\u001b[49m\u001b[43m,\u001b[49m\u001b[43m \u001b[49m\u001b[38;5;241;43m0\u001b[39;49m\u001b[43m)\u001b[49m\n",
      "File \u001b[0;32m<__array_function__ internals>:180\u001b[0m, in \u001b[0;36mconcatenate\u001b[0;34m(*args, **kwargs)\u001b[0m\n",
      "\u001b[0;31mValueError\u001b[0m: need at least one array to concatenate"
     ]
    }
   ],
   "source": [
    "for text_name in text_names:\n",
    "    print(text_name)\n",
    "    model_trainer = src.model.ModelTrainer(text_name=text_name)\n",
    "    model_trainer.train(train_df, valid_df, num_epochs=20)\n",
    "    test_df = test_df[test_df.text_name == text_name]\n",
    "    predict_df = model_trainer.test(test_df)\n",
    "    predict_df.to_csv(PRED_DIR+text_name+\"_predictions.csv\", index=False)"
   ]
  },
  {
   "cell_type": "markdown",
   "metadata": {},
   "source": [
    "## Make predictions"
   ]
  },
  {
   "cell_type": "code",
   "execution_count": null,
   "metadata": {},
   "outputs": [],
   "source": []
  }
 ],
 "metadata": {
  "kernelspec": {
   "display_name": "Python 3",
   "language": "python",
   "name": "python3"
  },
  "language_info": {
   "codemirror_mode": {
    "name": "ipython",
    "version": 3
   },
   "file_extension": ".py",
   "mimetype": "text/x-python",
   "name": "python",
   "nbconvert_exporter": "python",
   "pygments_lexer": "ipython3",
   "version": "3.8.8"
  }
 },
 "nbformat": 4,
 "nbformat_minor": 4
}
