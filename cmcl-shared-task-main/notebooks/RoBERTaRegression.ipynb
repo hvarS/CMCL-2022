{
 "cells": [
  {
   "cell_type": "markdown",
   "metadata": {},
   "source": [
    "# RoBERTa Regression"
   ]
  },
  {
   "cell_type": "code",
   "execution_count": 3,
   "metadata": {},
   "outputs": [],
   "source": [
    "import sys\n",
    "sys.path.append('../')\n",
    "\n",
    "import numpy as np\n",
    "import pandas as pd\n",
    "import matplotlib.pyplot as plt\n",
    "import seaborn as sns\n",
    "import tqdm\n",
    "import torch\n",
    "from collections import defaultdict, Counter\n",
    "import random\n",
    "import math\n",
    "import pickle\n",
    "\n",
    "import src.eval_metric\n",
    "import src.model\n",
    "import src.dataloader\n",
    "\n",
    "%matplotlib inline\n",
    "%load_ext autoreload\n",
    "%autoreload 2\n",
    "pd.options.display.max_columns = 100\n",
    "pd.options.display.max_rows = 100"
   ]
  },
  {
   "cell_type": "code",
   "execution_count": 4,
   "metadata": {},
   "outputs": [],
   "source": [
    "train_df = pd.read_csv(\"../../data/training_data/train.csv\")\n",
    "valid_df = pd.read_csv(\"../../data/training_data/dev.csv\")\n",
    "test_df = pd.read_csv(\"../../data/test_data/test_task1.csv\")"
   ]
  },
  {
   "cell_type": "markdown",
   "metadata": {},
   "source": [
    "## Fine-tune model"
   ]
  },
  {
   "cell_type": "code",
   "execution_count": 5,
   "metadata": {},
   "outputs": [
    {
     "name": "stdout",
     "output_type": "stream",
     "text": [
      "['ZuCo1' 'ZuCo2' 'Provo' 'BSC' 'RSC' 'PAHEC' 'PoTeC' 'GECO-NL']\n"
     ]
    }
   ],
   "source": [
    "text_names = valid_df['text_name'].unique()\n",
    "print(valid_df['text_name'].unique())"
   ]
  },
  {
   "cell_type": "code",
   "execution_count": 6,
   "metadata": {},
   "outputs": [],
   "source": [
    "import os\n",
    "PRED_DIR = '../../data/task1_predictions/'"
   ]
  },
  {
   "cell_type": "code",
   "execution_count": 9,
   "metadata": {},
   "outputs": [
    {
     "name": "stdout",
     "output_type": "stream",
     "text": [
      "ZuCo2\n"
     ]
    },
    {
     "name": "stderr",
     "output_type": "stream",
     "text": [
      "Some weights of the model checkpoint at xlm-roberta-base were not used when initializing XLMRobertaModel: ['lm_head.dense.bias', 'lm_head.dense.weight', 'lm_head.layer_norm.weight', 'lm_head.decoder.weight', 'lm_head.bias', 'lm_head.layer_norm.bias']\n",
      "- This IS expected if you are initializing XLMRobertaModel from the checkpoint of a model trained on another task or with another architecture (e.g. initializing a BertForSequenceClassification model from a BertForPreTraining model).\n",
      "- This IS NOT expected if you are initializing XLMRobertaModel from the checkpoint of a model that you expect to be exactly identical (initializing a BertForSequenceClassification model from a BertForSequenceClassification model).\n"
     ]
    },
    {
     "name": "stdout",
     "output_type": "stream",
     "text": [
      "Epoch: 1\n",
      "MAE for FFDAvg: 5.535212943140838\n",
      "MAE for FFDStd: 2.1269066034869093\n",
      "MAE for TRTAvg: 12.202309608127491\n",
      "MAE for TRTStd: 6.821957840315271\n",
      "Overall MAE: 6.6715967487676275\n",
      "Epoch: 2\n",
      "MAE for FFDAvg: 4.246043116958521\n",
      "MAE for FFDStd: 2.11634960790971\n",
      "MAE for TRTAvg: 10.971862447904094\n",
      "MAE for TRTStd: 6.4540442974686485\n",
      "Overall MAE: 5.947074867560243\n",
      "Epoch: 3\n",
      "MAE for FFDAvg: 3.3913318126734917\n",
      "MAE for FFDStd: 2.0928931476974393\n",
      "MAE for TRTAvg: 9.902916471363868\n",
      "MAE for TRTStd: 6.092509905738622\n",
      "Overall MAE: 5.369912834368355\n",
      "Epoch: 4\n",
      "MAE for FFDAvg: 2.7287183229075698\n",
      "MAE for FFDStd: 2.0673584556996034\n",
      "MAE for TRTAvg: 8.953528263189\n",
      "MAE for TRTStd: 5.793514780733949\n",
      "Overall MAE: 4.885779955632531\n",
      "Epoch: 5\n",
      "MAE for FFDAvg: 2.381224196366353\n",
      "MAE for FFDStd: 2.0226620524126417\n",
      "MAE for TRTAvg: 8.08113871348803\n",
      "MAE for TRTStd: 5.473092475160811\n",
      "Overall MAE: 4.489529359356959\n",
      "Epoch: 6\n",
      "MAE for FFDAvg: 2.1856709789319098\n",
      "MAE for FFDStd: 1.9502240563878077\n",
      "MAE for TRTAvg: 7.508321135841894\n",
      "MAE for TRTStd: 5.165504476886835\n",
      "Overall MAE: 4.202430162012112\n",
      "Epoch: 7\n",
      "MAE for FFDAvg: 2.033748475809085\n",
      "MAE for FFDStd: 1.8979971730256855\n",
      "MAE for TRTAvg: 6.9779706343437455\n",
      "MAE for TRTStd: 4.834786011504728\n",
      "Overall MAE: 3.936125573670811\n",
      "Epoch: 8\n",
      "MAE for FFDAvg: 2.1462081647715374\n",
      "MAE for FFDStd: 1.9780653848368037\n",
      "MAE for TRTAvg: 6.9068355860806045\n",
      "MAE for TRTStd: 4.736962000629876\n",
      "Overall MAE: 3.942017784079706\n",
      "Epoch: 9\n",
      "MAE for FFDAvg: 1.8541088379891026\n",
      "MAE for FFDStd: 1.918750569397575\n",
      "MAE for TRTAvg: 6.207959619605421\n",
      "MAE for TRTStd: 4.646861636402128\n",
      "Overall MAE: 3.6569201658485566\n",
      "Epoch: 10\n",
      "MAE for FFDAvg: 1.9168033620591078\n",
      "MAE for FFDStd: 1.8979539984737577\n",
      "MAE for TRTAvg: 6.010840602791812\n",
      "MAE for TRTStd: 4.460625517231491\n",
      "Overall MAE: 3.5715558701390417\n",
      "0\n"
     ]
    },
    {
     "ename": "ValueError",
     "evalue": "need at least one array to concatenate",
     "output_type": "error",
     "traceback": [
      "\u001b[0;31m---------------------------------------------------------------------------\u001b[0m",
      "\u001b[0;31mValueError\u001b[0m                                Traceback (most recent call last)",
      "Input \u001b[0;32mIn [9]\u001b[0m, in \u001b[0;36m<module>\u001b[0;34m\u001b[0m\n\u001b[1;32m      4\u001b[0m model_trainer\u001b[38;5;241m.\u001b[39mtrain(train_df, valid_df, num_epochs\u001b[38;5;241m=\u001b[39m\u001b[38;5;241m10\u001b[39m,batch_size \u001b[38;5;241m=\u001b[39m \u001b[38;5;241m8\u001b[39m)\n\u001b[1;32m      5\u001b[0m test_df \u001b[38;5;241m=\u001b[39m test_df[test_df\u001b[38;5;241m.\u001b[39mtext_name \u001b[38;5;241m==\u001b[39m text_name]\n\u001b[0;32m----> 6\u001b[0m predict_df \u001b[38;5;241m=\u001b[39m \u001b[43mmodel_trainer\u001b[49m\u001b[38;5;241;43m.\u001b[39;49m\u001b[43mtest\u001b[49m\u001b[43m(\u001b[49m\u001b[43mtest_df\u001b[49m\u001b[43m)\u001b[49m\n\u001b[1;32m      7\u001b[0m predict_df\u001b[38;5;241m.\u001b[39mto_csv(PRED_DIR\u001b[38;5;241m+\u001b[39mtext_name\u001b[38;5;241m+\u001b[39m\u001b[38;5;124m\"\u001b[39m\u001b[38;5;124m_predictions.csv\u001b[39m\u001b[38;5;124m\"\u001b[39m, index\u001b[38;5;241m=\u001b[39m\u001b[38;5;28;01mFalse\u001b[39;00m)\n",
      "File \u001b[0;32m~/Harsh/CMCL-2022/cmcl-shared-task-main/src/model.py:139\u001b[0m, in \u001b[0;36mModelTrainer.test\u001b[0;34m(self, test_df)\u001b[0m\n\u001b[1;32m    137\u001b[0m         token_prediction[token_prediction \u001b[38;5;241m<\u001b[39m \u001b[38;5;241m0\u001b[39m] \u001b[38;5;241m=\u001b[39m \u001b[38;5;241m0\u001b[39m\n\u001b[1;32m    138\u001b[0m         predictions\u001b[38;5;241m.\u001b[39mappend(token_prediction)\n\u001b[0;32m--> 139\u001b[0m predict_df[[\u001b[38;5;124m'\u001b[39m\u001b[38;5;124mFFDAvg\u001b[39m\u001b[38;5;124m'\u001b[39m, \u001b[38;5;124m'\u001b[39m\u001b[38;5;124mFFDStd\u001b[39m\u001b[38;5;124m'\u001b[39m, \u001b[38;5;124m'\u001b[39m\u001b[38;5;124mTRTAvg\u001b[39m\u001b[38;5;124m'\u001b[39m, \u001b[38;5;124m'\u001b[39m\u001b[38;5;124mTRTStd\u001b[39m\u001b[38;5;124m'\u001b[39m]] \u001b[38;5;241m=\u001b[39m \u001b[43mnp\u001b[49m\u001b[38;5;241;43m.\u001b[39;49m\u001b[43mvstack\u001b[49m\u001b[43m(\u001b[49m\u001b[43mpredictions\u001b[49m\u001b[43m)\u001b[49m\n\u001b[1;32m    141\u001b[0m \u001b[38;5;28;01mtry\u001b[39;00m:\n\u001b[1;32m    142\u001b[0m   predict_df[[\u001b[38;5;124m'\u001b[39m\u001b[38;5;124mFFDAvg\u001b[39m\u001b[38;5;124m'\u001b[39m, \u001b[38;5;124m'\u001b[39m\u001b[38;5;124mFFDStd\u001b[39m\u001b[38;5;124m'\u001b[39m, \u001b[38;5;124m'\u001b[39m\u001b[38;5;124mTRTAvg\u001b[39m\u001b[38;5;124m'\u001b[39m, \u001b[38;5;124m'\u001b[39m\u001b[38;5;124mTRTStd\u001b[39m\u001b[38;5;124m'\u001b[39m]] \u001b[38;5;241m=\u001b[39m np\u001b[38;5;241m.\u001b[39mvstack(predictions)\n",
      "File \u001b[0;32m<__array_function__ internals>:180\u001b[0m, in \u001b[0;36mvstack\u001b[0;34m(*args, **kwargs)\u001b[0m\n",
      "File \u001b[0;32m~/Harsh/multimodal/lib/python3.8/site-packages/numpy/core/shape_base.py:282\u001b[0m, in \u001b[0;36mvstack\u001b[0;34m(tup)\u001b[0m\n\u001b[1;32m    280\u001b[0m \u001b[38;5;28;01mif\u001b[39;00m \u001b[38;5;129;01mnot\u001b[39;00m \u001b[38;5;28misinstance\u001b[39m(arrs, \u001b[38;5;28mlist\u001b[39m):\n\u001b[1;32m    281\u001b[0m     arrs \u001b[38;5;241m=\u001b[39m [arrs]\n\u001b[0;32m--> 282\u001b[0m \u001b[38;5;28;01mreturn\u001b[39;00m \u001b[43m_nx\u001b[49m\u001b[38;5;241;43m.\u001b[39;49m\u001b[43mconcatenate\u001b[49m\u001b[43m(\u001b[49m\u001b[43marrs\u001b[49m\u001b[43m,\u001b[49m\u001b[43m \u001b[49m\u001b[38;5;241;43m0\u001b[39;49m\u001b[43m)\u001b[49m\n",
      "File \u001b[0;32m<__array_function__ internals>:180\u001b[0m, in \u001b[0;36mconcatenate\u001b[0;34m(*args, **kwargs)\u001b[0m\n",
      "\u001b[0;31mValueError\u001b[0m: need at least one array to concatenate"
     ]
    }
   ],
   "source": [
    "for text_name in text_names[1:]:\n",
    "    print(text_name)\n",
    "    model_trainer = src.model.ModelTrainer(text_name=text_name)\n",
    "    model_trainer.train(train_df, valid_df, num_epochs=10,batch_size = 8)\n",
    "    test_df = test_df[test_df.text_name == text_name]\n",
    "    predict_df = model_trainer.test(test_df)\n",
    "    predict_df.to_csv(PRED_DIR+text_name+\"_predictions.csv\", index=False)"
   ]
  },
  {
   "cell_type": "markdown",
   "metadata": {},
   "source": [
    "## Make predictions"
   ]
  },
  {
   "cell_type": "code",
   "execution_count": null,
   "metadata": {},
   "outputs": [],
   "source": []
  }
 ],
 "metadata": {
  "kernelspec": {
   "display_name": "Python 3",
   "language": "python",
   "name": "python3"
  },
  "language_info": {
   "codemirror_mode": {
    "name": "ipython",
    "version": 3
   },
   "file_extension": ".py",
   "mimetype": "text/x-python",
   "name": "python",
   "nbconvert_exporter": "python",
   "pygments_lexer": "ipython3",
   "version": "3.8.8"
  }
 },
 "nbformat": 4,
 "nbformat_minor": 4
}
